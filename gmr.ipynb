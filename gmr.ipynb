{
 "cells": [
  {
   "cell_type": "markdown",
   "metadata": {},
   "source": [
    "To start, go to cell 23 where it says 'genre_extractor(all_data, 'Place genre here', place rating here)' and input the genre and lowest rating you want to see, ex: genre_extractor(all_data, 'Comedy', 7.0). When you have done that you can press the Run All button at the top of this notebook to see your results."
   ]
  },
  {
   "cell_type": "markdown",
   "metadata": {},
   "source": [
    "I start by importing pandas."
   ]
  },
  {
   "cell_type": "code",
   "execution_count": 23,
   "metadata": {},
   "outputs": [],
   "source": [
    "import pandas as pd"
   ]
  },
  {
   "cell_type": "markdown",
   "metadata": {},
   "source": [
    "Next I read in my first dataset and asign it to a DataFrame, then I rename the \"Duration (min)\" column to \"Runtime\", once that is done I filter the columns I want to use into a new DataFrame and remove all the NaN values."
   ]
  },
  {
   "cell_type": "code",
   "execution_count": 24,
   "metadata": {},
   "outputs": [],
   "source": [
    "data = pd.read_csv(\"imdb_data\\imdb-movies-dataset.csv\")\n",
    "\n",
    "data = data.rename(columns={\"Duration (min)\": \"Runtime\"})\n",
    "\n",
    "new_data = data.loc[:, ['Title', 'Runtime', 'Genre', 'Rating']]\n",
    "new_data = new_data.dropna()"
   ]
  },
  {
   "cell_type": "markdown",
   "metadata": {},
   "source": [
    "After I removed the NaN values, I needed to convert the \"Runtime\" column to a string in order to replace the trailing '.0' with an empty space ''."
   ]
  },
  {
   "cell_type": "code",
   "execution_count": 25,
   "metadata": {},
   "outputs": [],
   "source": [
    "new_data['Runtime'] = new_data['Runtime'].astype(str)\n",
    "new_data['Runtime'] = new_data['Runtime'].str.replace('.0', '')"
   ]
  },
  {
   "cell_type": "markdown",
   "metadata": {},
   "source": [
    "Now that my first dataset is ready, I moved on to my second dataset. I start with reading the CSV into a DataFrame and renaming the columns I want to use so they match my first dataset, then I filter out the columns I want to use into a new DataFrame."
   ]
  },
  {
   "cell_type": "code",
   "execution_count": 26,
   "metadata": {},
   "outputs": [],
   "source": [
    "data1k = pd.read_csv(\"imdb_top1k\\imdb_clean.csv\")\n",
    "\n",
    "data1k = data1k.rename(columns={\"title\": \"Title\", \"runtime\": \"Runtime\", \"genre\": \"Genre\", \"rating\": \"Rating\"})\n",
    "\n",
    "new_data1k = data1k.loc[:, [\"Title\", \"Runtime\", \"Genre\", \"Rating\"]]"
   ]
  },
  {
   "cell_type": "markdown",
   "metadata": {},
   "source": [
    "My new DataFrame had an issue with having multiple rows for the same film because the films fell into more than one genre. So to combine all the mostly duplicate rows, I grouped all the columns except the 'Genre' column and then using apply to use the lambda function to join all the seperate genre rows into a single string separated by a comma and space, once that was done I had to reset the index. "
   ]
  },
  {
   "cell_type": "code",
   "execution_count": 27,
   "metadata": {},
   "outputs": [],
   "source": [
    "new_data1k_grouped = new_data1k.groupby(['Title', 'Runtime', 'Rating'])['Genre'].apply(lambda x: ', '.join(x)).reset_index()"
   ]
  },
  {
   "cell_type": "markdown",
   "metadata": {},
   "source": [
    "After I had combined the duplicate rows I had to convert the 'Runtime' column on my second dataset to a string so I could use concat to merge my two datasets into my new one, I also had to use ignore_index to reset the index to a new one instead of using the indicies from the original two datasets."
   ]
  },
  {
   "cell_type": "code",
   "execution_count": 28,
   "metadata": {},
   "outputs": [],
   "source": [
    "new_data1k_grouped['Runtime'] = new_data1k_grouped['Runtime'].astype(str)\n",
    "\n",
    "all_data = pd.concat([new_data, new_data1k_grouped], ignore_index=True)"
   ]
  },
  {
   "cell_type": "markdown",
   "metadata": {},
   "source": [
    "Once all my data was in a single DataFrame, I wrote the data to a new CSV that is stored in my project folder."
   ]
  },
  {
   "cell_type": "code",
   "execution_count": 29,
   "metadata": {},
   "outputs": [],
   "source": [
    "all_data.to_csv(\"all_imdb_data.csv\")"
   ]
  },
  {
   "cell_type": "markdown",
   "metadata": {},
   "source": [
    "Using a function to make a copy of the DataFrame so the original dataset is not altered, we create a filtered DataFrame based on the genre and rating range input by the user and read it to its own CSV.\n",
    "\n",
    "\n",
    "*Tip: If you want to run program mutiple times to create multiple DataFrames for each genre, make sure to edit the name of the CSV file the filtered_df is being written to anywhere it appears (ex: run program once to filtered_data.csv, then change CSV name to filtered_data1.csv and run it again on a different genre.)"
   ]
  },
  {
   "cell_type": "code",
   "execution_count": 30,
   "metadata": {},
   "outputs": [],
   "source": [
    "def genre_extractor(df, genre_str, rating_int):\n",
    " \n",
    "    df_copy = df.copy()\n",
    "    \n",
    "   \n",
    "    filtered_df = df_copy[(df_copy['Genre'] == genre_str) & (df_copy['Rating'] >= rating_int)]\n",
    "    \n",
    "   \n",
    "    filtered_df.to_csv('filtered_data.csv', index=False)\n",
    "    \n",
    "    return filtered_df\n"
   ]
  },
  {
   "cell_type": "markdown",
   "metadata": {},
   "source": [
    "When you call the 'genre_extractor' function, input the genre you would like to see and the lowest rating you want to include."
   ]
  },
  {
   "cell_type": "code",
   "execution_count": null,
   "metadata": {},
   "outputs": [],
   "source": [
    "genre_extractor(all_data, 'Place genre here', Place rating here)"
   ]
  },
  {
   "cell_type": "markdown",
   "metadata": {},
   "source": [
    "The next function will take the DataFrame created based on your genre and rating inputs and calculate the average runtime.\n",
    "\n",
    "*Hint: If you are running program multiple times, make sure to edit the CSV file being read in."
   ]
  },
  {
   "cell_type": "code",
   "execution_count": 32,
   "metadata": {},
   "outputs": [],
   "source": [
    "def avg_runtime(genre_extractor):\n",
    "    \n",
    "    filtered_df = pd.read_csv('filtered_data.csv')\n",
    "\n",
    "    avg_runtime = filtered_df.Runtime.mean().round() \n",
    "\n",
    "    return avg_runtime"
   ]
  },
  {
   "cell_type": "markdown",
   "metadata": {},
   "source": [
    "Then you will call the 'avg_runtime' function to see what the Golden Movie Ratio is for the genre you selected."
   ]
  },
  {
   "cell_type": "code",
   "execution_count": 33,
   "metadata": {},
   "outputs": [
    {
     "data": {
      "text/plain": [
       "124.0"
      ]
     },
     "execution_count": 33,
     "metadata": {},
     "output_type": "execute_result"
    }
   ],
   "source": [
    "avg_runtime(genre_extractor)"
   ]
  }
 ],
 "metadata": {
  "kernelspec": {
   "display_name": "Python 3",
   "language": "python",
   "name": "python3"
  },
  "language_info": {
   "codemirror_mode": {
    "name": "ipython",
    "version": 3
   },
   "file_extension": ".py",
   "mimetype": "text/x-python",
   "name": "python",
   "nbconvert_exporter": "python",
   "pygments_lexer": "ipython3",
   "version": "3.10.11"
  }
 },
 "nbformat": 4,
 "nbformat_minor": 2
}
