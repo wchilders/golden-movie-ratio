{
 "cells": [
  {
   "cell_type": "markdown",
   "metadata": {},
   "source": [
    "To start, press the Run All button at the top of this notebook to see your results."
   ]
  },
  {
   "cell_type": "markdown",
   "metadata": {},
   "source": [
    "I start by importing pandas."
   ]
  },
  {
   "cell_type": "code",
   "execution_count": 15,
   "metadata": {},
   "outputs": [],
   "source": [
    "import pandas as pd"
   ]
  },
  {
   "cell_type": "markdown",
   "metadata": {},
   "source": [
    "Next I read in my first dataset and asign it to a DataFrame, then I rename the \"Duration (min)\" column to \"Runtime\", once that is done I filter the columns I want to use into a new DataFrame and remove all the NaN values."
   ]
  },
  {
   "cell_type": "code",
   "execution_count": 16,
   "metadata": {},
   "outputs": [],
   "source": [
    "data = pd.read_csv(\"imdb_data\\imdb-movies-dataset.csv\")\n",
    "\n",
    "data = data.rename(columns={\"Duration (min)\": \"Runtime\"})\n",
    "\n",
    "new_data = data.loc[:, ['Title', 'Runtime', 'Genre', 'Rating']]\n",
    "new_data = new_data.dropna()"
   ]
  },
  {
   "cell_type": "markdown",
   "metadata": {},
   "source": [
    "After I removed the NaN values, I needed to convert the \"Runtime\" column to a string in order to replace the trailing '.0' with an empty space ''."
   ]
  },
  {
   "cell_type": "code",
   "execution_count": 17,
   "metadata": {},
   "outputs": [],
   "source": [
    "new_data['Runtime'] = new_data['Runtime'].astype(str)\n",
    "new_data['Runtime'] = new_data['Runtime'].str.replace('.0', '')"
   ]
  },
  {
   "cell_type": "markdown",
   "metadata": {},
   "source": [
    "Now that my first dataset is ready, I moved on to my second dataset. I start with reading the CSV into a DataFrame and renaming the columns I want to use so they match my first dataset, then I filter out the columns I want to use into a new DataFrame."
   ]
  },
  {
   "cell_type": "code",
   "execution_count": 18,
   "metadata": {},
   "outputs": [],
   "source": [
    "data1k = pd.read_csv(\"imdb_top1k\\imdb_clean.csv\")\n",
    "\n",
    "data1k = data1k.rename(columns={\"title\": \"Title\", \"runtime\": \"Runtime\", \"genre\": \"Genre\", \"rating\": \"Rating\"})\n",
    "\n",
    "new_data1k = data1k.loc[:, [\"Title\", \"Runtime\", \"Genre\", \"Rating\"]]"
   ]
  },
  {
   "cell_type": "markdown",
   "metadata": {},
   "source": [
    "My new DataFrame had an issue with having multiple rows for the same film because the films fell into more than one genre. So to combine all the mostly duplicate rows, I grouped all the columns except the 'Genre' column and then using apply to use the lambda function to join all the seperate genre rows into a single string separated by a comma and space, once that was done I had to reset the index. "
   ]
  },
  {
   "cell_type": "code",
   "execution_count": 19,
   "metadata": {},
   "outputs": [],
   "source": [
    "new_data1k_grouped = new_data1k.groupby(['Title', 'Runtime', 'Rating'])['Genre'].apply(lambda x: ', '.join(x)).reset_index()"
   ]
  },
  {
   "cell_type": "markdown",
   "metadata": {},
   "source": [
    "After I had combined the duplicate rows I had to convert the 'Runtime' column on my second dataset to a string so I could use concat to merge my two datasets into my new one, I also had to use ignore_index to reset the index to a new one instead of using the indicies from the original two datasets."
   ]
  },
  {
   "cell_type": "code",
   "execution_count": 20,
   "metadata": {},
   "outputs": [],
   "source": [
    "new_data1k_grouped['Runtime'] = new_data1k_grouped['Runtime'].astype(str)\n",
    "\n",
    "all_data = pd.concat([new_data, new_data1k_grouped], ignore_index=True)"
   ]
  },
  {
   "cell_type": "markdown",
   "metadata": {},
   "source": [
    "Once all my data was in a single DataFrame, I wrote the data to a new CSV that is stored in my project folder."
   ]
  },
  {
   "cell_type": "code",
   "execution_count": 21,
   "metadata": {},
   "outputs": [],
   "source": [
    "all_data.to_csv(\"all_imdb_data.csv\")"
   ]
  },
  {
   "cell_type": "markdown",
   "metadata": {},
   "source": [
    "Next we will define our parameters for the genre_extractor function by prompting the user to input the genre and lowest rating they want to see ex:(Comedy, 7.5) and then convert the rating to an integer."
   ]
  },
  {
   "cell_type": "code",
   "execution_count": 22,
   "metadata": {},
   "outputs": [],
   "source": [
    "genre_str = input(\"Enter genre\")\n",
    "rating_int = int(input(\"Enter the lowest rating you want to see\"))"
   ]
  },
  {
   "cell_type": "markdown",
   "metadata": {},
   "source": [
    "Using a function to make a copy of the DataFrame so the original dataset is not altered, we create a filtered DataFrame based on the genre and rating range input by the user and read it to its own CSV.\n",
    "\n",
    "\n",
    "*Tip: If you want to run program mutiple times to create multiple DataFrames for each genre, make sure to edit the name of the CSV file the filtered_df is being written to anywhere it appears (ex: run program once to filtered_data.csv, then change CSV name to filtered_data1.csv and run it again on a different genre.)"
   ]
  },
  {
   "cell_type": "code",
   "execution_count": 23,
   "metadata": {},
   "outputs": [],
   "source": [
    "def genre_extractor(df, genre_str, rating_int):\n",
    " \n",
    "    df_copy = df.copy()\n",
    "    \n",
    "   \n",
    "    filtered_df = df_copy[(df_copy['Genre'] == genre_str) & (df_copy['Rating'] >= rating_int)]\n",
    "    \n",
    "   \n",
    "    filtered_df.to_csv('filtered_data.csv', index=False)\n",
    "    \n",
    "    return filtered_df\n"
   ]
  },
  {
   "cell_type": "markdown",
   "metadata": {},
   "source": [
    "Now we will call the genre_extractor function."
   ]
  },
  {
   "cell_type": "code",
   "execution_count": 24,
   "metadata": {},
   "outputs": [
    {
     "data": {
      "text/html": [
       "<div>\n",
       "<style scoped>\n",
       "    .dataframe tbody tr th:only-of-type {\n",
       "        vertical-align: middle;\n",
       "    }\n",
       "\n",
       "    .dataframe tbody tr th {\n",
       "        vertical-align: top;\n",
       "    }\n",
       "\n",
       "    .dataframe thead th {\n",
       "        text-align: right;\n",
       "    }\n",
       "</style>\n",
       "<table border=\"1\" class=\"dataframe\">\n",
       "  <thead>\n",
       "    <tr style=\"text-align: right;\">\n",
       "      <th></th>\n",
       "      <th>Title</th>\n",
       "      <th>Runtime</th>\n",
       "      <th>Genre</th>\n",
       "      <th>Rating</th>\n",
       "    </tr>\n",
       "  </thead>\n",
       "  <tbody>\n",
       "    <tr>\n",
       "      <th>64</th>\n",
       "      <td>The Shawshank Redemption</td>\n",
       "      <td>142</td>\n",
       "      <td>Drama</td>\n",
       "      <td>9.3</td>\n",
       "    </tr>\n",
       "    <tr>\n",
       "      <th>145</th>\n",
       "      <td>Fight Club</td>\n",
       "      <td>139</td>\n",
       "      <td>Drama</td>\n",
       "      <td>8.8</td>\n",
       "    </tr>\n",
       "    <tr>\n",
       "      <th>184</th>\n",
       "      <td>American Beauty</td>\n",
       "      <td>122</td>\n",
       "      <td>Drama</td>\n",
       "      <td>8.3</td>\n",
       "    </tr>\n",
       "    <tr>\n",
       "      <th>238</th>\n",
       "      <td>Requiem for a Dream</td>\n",
       "      <td>102</td>\n",
       "      <td>Drama</td>\n",
       "      <td>8.3</td>\n",
       "    </tr>\n",
       "    <tr>\n",
       "      <th>379</th>\n",
       "      <td>The Help</td>\n",
       "      <td>146</td>\n",
       "      <td>Drama</td>\n",
       "      <td>8.1</td>\n",
       "    </tr>\n",
       "    <tr>\n",
       "      <th>...</th>\n",
       "      <td>...</td>\n",
       "      <td>...</td>\n",
       "      <td>...</td>\n",
       "      <td>...</td>\n",
       "    </tr>\n",
       "    <tr>\n",
       "      <th>10530</th>\n",
       "      <td>Udaan</td>\n",
       "      <td>134</td>\n",
       "      <td>Drama</td>\n",
       "      <td>8.1</td>\n",
       "    </tr>\n",
       "    <tr>\n",
       "      <th>10531</th>\n",
       "      <td>Umberto D.</td>\n",
       "      <td>89</td>\n",
       "      <td>Drama</td>\n",
       "      <td>8.2</td>\n",
       "    </tr>\n",
       "    <tr>\n",
       "      <th>10560</th>\n",
       "      <td>Who's Afraid of Virginia Woolf?</td>\n",
       "      <td>131</td>\n",
       "      <td>Drama</td>\n",
       "      <td>8.0</td>\n",
       "    </tr>\n",
       "    <tr>\n",
       "      <th>10566</th>\n",
       "      <td>Winter Light</td>\n",
       "      <td>81</td>\n",
       "      <td>Drama</td>\n",
       "      <td>8.0</td>\n",
       "    </tr>\n",
       "    <tr>\n",
       "      <th>10567</th>\n",
       "      <td>Winter Sleep</td>\n",
       "      <td>196</td>\n",
       "      <td>Drama</td>\n",
       "      <td>8.1</td>\n",
       "    </tr>\n",
       "  </tbody>\n",
       "</table>\n",
       "<p>99 rows × 4 columns</p>\n",
       "</div>"
      ],
      "text/plain": [
       "                                 Title Runtime  Genre  Rating\n",
       "64            The Shawshank Redemption     142  Drama     9.3\n",
       "145                         Fight Club     139  Drama     8.8\n",
       "184                    American Beauty     122  Drama     8.3\n",
       "238                Requiem for a Dream     102  Drama     8.3\n",
       "379                           The Help     146  Drama     8.1\n",
       "...                                ...     ...    ...     ...\n",
       "10530                            Udaan     134  Drama     8.1\n",
       "10531                       Umberto D.      89  Drama     8.2\n",
       "10560  Who's Afraid of Virginia Woolf?     131  Drama     8.0\n",
       "10566                     Winter Light      81  Drama     8.0\n",
       "10567                     Winter Sleep     196  Drama     8.1\n",
       "\n",
       "[99 rows x 4 columns]"
      ]
     },
     "execution_count": 24,
     "metadata": {},
     "output_type": "execute_result"
    }
   ],
   "source": [
    "genre_extractor(all_data, genre_str, rating_int)"
   ]
  },
  {
   "cell_type": "markdown",
   "metadata": {},
   "source": [
    "The next function will take the DataFrame created based on your genre and rating inputs and calculate the average runtime.\n",
    "\n",
    "*Tip: If you are running program multiple times, make sure to edit the CSV file being read in."
   ]
  },
  {
   "cell_type": "code",
   "execution_count": 25,
   "metadata": {},
   "outputs": [],
   "source": [
    "def avg_runtime(genre_extractor):\n",
    "    \n",
    "    filtered_df = pd.read_csv('filtered_data.csv')\n",
    "\n",
    "    avg_runtime = filtered_df.Runtime.mean().round() \n",
    "\n",
    "    return avg_runtime"
   ]
  },
  {
   "cell_type": "markdown",
   "metadata": {},
   "source": [
    "Then you will call the 'avg_runtime' function to see what the Golden Movie Ratio is for the genre you selected."
   ]
  },
  {
   "cell_type": "code",
   "execution_count": 26,
   "metadata": {},
   "outputs": [
    {
     "data": {
      "text/plain": [
       "133.0"
      ]
     },
     "execution_count": 26,
     "metadata": {},
     "output_type": "execute_result"
    }
   ],
   "source": [
    "avg_runtime(genre_extractor)"
   ]
  }
 ],
 "metadata": {
  "kernelspec": {
   "display_name": "Python 3",
   "language": "python",
   "name": "python3"
  },
  "language_info": {
   "codemirror_mode": {
    "name": "ipython",
    "version": 3
   },
   "file_extension": ".py",
   "mimetype": "text/x-python",
   "name": "python",
   "nbconvert_exporter": "python",
   "pygments_lexer": "ipython3",
   "version": "3.10.11"
  }
 },
 "nbformat": 4,
 "nbformat_minor": 2
}
